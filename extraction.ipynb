{
 "cells": [
  {
   "cell_type": "markdown",
   "id": "cc81d398-b43d-4060-9a07-0ae57155d18e",
   "metadata": {},
   "source": [
    "# Round 3 data extraction\n",
    "\n",
    "The round 3 candidates are not documented in this repository, but they *are* reported in a figure from the [Ruhlman conference presentation](https://docs.google.com/presentation/d/1w1cbO19pMLjWjZ81w3HZsD8YVXHn8s7xA6P3OIG01v8/edit#slide=id.gfb87c9a92b_0_783). Use WebPlotDigitizer to extract the values and convert them back to composition values.\n",
    "\n",
    "## Setup"
   ]
  },
  {
   "cell_type": "code",
   "execution_count": 1,
   "id": "64744026-0a33-46a5-9e02-d31988e2bc8c",
   "metadata": {},
   "outputs": [],
   "source": [
    "## Load packages\n",
    "import grama as gr\n",
    "import numpy as np\n",
    "import pandas as pd\n",
    "%matplotlib inline\n",
    "\n",
    "## Package setup\n",
    "DF = gr.Intention()"
   ]
  },
  {
   "cell_type": "markdown",
   "id": "a60ef175-53a9-4f94-9531-d6aa9976719a",
   "metadata": {},
   "source": [
    "## Helper Functions\n",
    "\n",
    "We used a consistent set of helper functions to construct ternary diagrams. Thus, the mapping from $x,y$ to composition can be done with the same helper functions we've been using.\n"
   ]
  },
  {
   "cell_type": "code",
   "execution_count": 2,
   "id": "0039fd26-e5eb-4269-bad5-2774b21d59ae",
   "metadata": {},
   "outputs": [],
   "source": [
    "## Barycentric converter\n",
    "def tran_bary(df, a=\"I\", b=\"Br\", c=\"Cl\", x=\"x\", y=\"y\"):\n",
    "    r\"\"\"Convert to barycentric coordinates\n",
    "    \"\"\"\n",
    "    df_tmp = df.copy()\n",
    "    df_tmp[x] = 0.0 * df[a] + 1.0 * df[b] + 0.5 * df[c]\n",
    "    df_tmp[y] = 0.0 * df[a] + 0.0 * df[b] + np.sqrt(1 - 0.5**2) * df[c]\n",
    "    \n",
    "    return df_tmp\n",
    "\n",
    "## Inverse transform\n",
    "def tran_thp(df, x=\"x\", y=\"y\", a=\"I\", b=\"Br\", c=\"Cl\"):\n",
    "    df_tmp = df.copy()\n",
    "    xa = 0; ya = 0\n",
    "    xb = 1; yb = 0\n",
    "    xc = 0.5; yc = np.sqrt(1 - 0.5**2)\n",
    "    d = (yb - yc) * (xa - xc) + (xc - xb) * (ya - yc)\n",
    "    df_tmp[a] = ((yb - yc) * (df_tmp[x] - xc) + (xc - xb) * (df_tmp[y] - yc)) / d\n",
    "    df_tmp[b] = ((yc - ya) * (df_tmp[x] - xc) + (xa - xc) * (df_tmp[y] - yc)) / d\n",
    "    df_tmp[c] = 1 - df_tmp[a] - df_tmp[b]\n",
    "\n",
    "    return df_tmp\n",
    "\n",
    "# Pipe-enabled functions\n",
    "tf_bary = gr.add_pipe(tran_bary)\n",
    "tf_thp = gr.add_pipe(tran_thp)"
   ]
  },
  {
   "cell_type": "markdown",
   "id": "249c57bc-bfac-4549-bae4-83b578f6f8fb",
   "metadata": {},
   "source": [
    "## Metadata\n"
   ]
  },
  {
   "cell_type": "code",
   "execution_count": 3,
   "id": "0270058e-7626-4066-8125-de5c7b6673a6",
   "metadata": {},
   "outputs": [],
   "source": [
    "# Triangle boundary\n",
    "df_tri_bounds = (\n",
    "    gr.df_make(\n",
    "        Br=[1, 0, 0, 1],\n",
    "        Cl=[0, 1, 0, 0],\n",
    "        I =[0, 0, 1, 0],\n",
    "    )\n",
    "    >> tf_bary()\n",
    ")\n",
    "\n",
    "# Labels\n",
    "df_tri_labels = (\n",
    "    gr.df_make(\n",
    "        x=[-0.1, +1.1, +0.5],\n",
    "        y=[+0.0, +0.0, +np.sqrt(1 - 0.5**2) + 0.1],\n",
    "        label=[\"I\", \"Br\", \"Cl\"]\n",
    "    )\n",
    ")\n",
    "\n",
    "# Guidelines\n",
    "df_tri_guides = (\n",
    "    gr.df_make(\n",
    "        Br_0=[0.25, 0.5, 0.75, 0.25, 0.5, 0.75, 0.75, 0.5, 0.25],\n",
    "        Br_1=[0.25, 0.5, 0.75, 0.00, 0.0, 0.00, 0.00, 0.0, 0.00],\n",
    "        Cl_0=[0.75, 0.5, 0.25, 0.75, 0.5, 0.25, 0.00, 0.0, 0.00],\n",
    "        Cl_1=[0.00, 0.0, 0.00, 0.75, 0.5, 0.25, 0.75, 0.5, 0.25],\n",
    "        I_0 =[0.00, 0.0, 0.00, 0.00, 0.0, 0.00, 0.25, 0.5, 0.75],\n",
    "        I_1 =[0.75, 0.5, 0.25, 0.25, 0.5, 0.75, 0.25, 0.5, 0.75],\n",
    "    )\n",
    "    >> tf_bary(a=\"I_0\", b=\"Br_0\", c=\"Cl_0\")\n",
    "    >> tf_bary(a=\"I_1\", b=\"Br_1\", c=\"Cl_1\", x=\"xend\", y=\"yend\")\n",
    ")"
   ]
  },
  {
   "cell_type": "markdown",
   "id": "f9813d8d-3796-48bb-945b-f4ddba8d83f6",
   "metadata": {},
   "source": [
    "# The Figure\n",
    "\n",
    "The Round 3 candidates are reported in this figure.\n",
    "\n",
    "![thp-final](./images/thp-final.png)\n",
    "\n",
    "I can't find the original numerical values, but we can collect the data values in $x, y$ coordinates from this figure (using WebPlotDigitizer) and run a conversion back to composition. To do this, we'll need to calibrate the axes respecting the original helper functions.\n",
    "\n",
    "*Note*: WebPlotDigitizer has a ternary diagram axis calibration, but it treats a single edge as an axis from 0% to 100% of a single element. Our ternary diagrams were defined with the corners corresponding to 100% of an element. These are incompatible definitions. Therefore, I'm extracting the data in $x, y$ coordinates and transforming them back to compositional fractions.\n"
   ]
  },
  {
   "cell_type": "markdown",
   "id": "a402b7c1-5a72-467c-9a70-fac51a412363",
   "metadata": {},
   "source": [
    "## Data Extraction\n",
    "\n",
    "Based on our helper functions, the $x$-axis runs from $X_1 = 0$ to $X_2 = 1$. The y axis is more complex, with the largest value based on the base of an equilateral unit-side triangle:\n"
   ]
  },
  {
   "cell_type": "code",
   "execution_count": 4,
   "id": "f7c5e959-da21-4028-8ab8-e36a157eb1bb",
   "metadata": {},
   "outputs": [
    {
     "data": {
      "text/plain": [
       "0.8660254037844386"
      ]
     },
     "execution_count": 4,
     "metadata": {},
     "output_type": "execute_result"
    }
   ],
   "source": [
    "y_max = np.sqrt(1 - 0.5**2)\n",
    "y_max"
   ]
  },
  {
   "cell_type": "markdown",
   "id": "48e781ef-4ef1-4036-99bc-89ff0072a983",
   "metadata": {},
   "source": [
    "Thus, I calibrate the y axis with $Y_1 = 0$ and $Y_2 = 0.8660$ in WebPlotDigitizer:\n",
    "\n",
    "![Calibration](./images/webplotdig-calibration-thp.png)\n",
    "\n",
    "I extracted the values into three dataset:\n",
    "\n",
    "- `extracted-round0.csv` - the Round 0 corner-points; to check the axis calibration\n",
    "- `extracted-round3-true.csv` - the Round 3 Phase-stable == True cases\n",
    "- `extracted-round3-false.csv` - the Round 3 Phase-stable == False cases\n"
   ]
  },
  {
   "cell_type": "code",
   "execution_count": 5,
   "id": "2de0d8d5-5ce2-44ff-bcfb-8d2d9a0d6f22",
   "metadata": {},
   "outputs": [
    {
     "data": {
      "text/html": [
       "<div>\n",
       "<style scoped>\n",
       "    .dataframe tbody tr th:only-of-type {\n",
       "        vertical-align: middle;\n",
       "    }\n",
       "\n",
       "    .dataframe tbody tr th {\n",
       "        vertical-align: top;\n",
       "    }\n",
       "\n",
       "    .dataframe thead th {\n",
       "        text-align: right;\n",
       "    }\n",
       "</style>\n",
       "<table border=\"1\" class=\"dataframe\">\n",
       "  <thead>\n",
       "    <tr style=\"text-align: right;\">\n",
       "      <th></th>\n",
       "      <th>x</th>\n",
       "      <th>y</th>\n",
       "      <th>Round</th>\n",
       "      <th>single_phase</th>\n",
       "    </tr>\n",
       "  </thead>\n",
       "  <tbody>\n",
       "    <tr>\n",
       "      <th>0</th>\n",
       "      <td>0.160671</td>\n",
       "      <td>0.085563</td>\n",
       "      <td>3</td>\n",
       "      <td>True</td>\n",
       "    </tr>\n",
       "    <tr>\n",
       "      <th>1</th>\n",
       "      <td>0.580336</td>\n",
       "      <td>0.571716</td>\n",
       "      <td>3</td>\n",
       "      <td>True</td>\n",
       "    </tr>\n",
       "    <tr>\n",
       "      <th>2</th>\n",
       "      <td>0.515588</td>\n",
       "      <td>0.719506</td>\n",
       "      <td>3</td>\n",
       "      <td>True</td>\n",
       "    </tr>\n",
       "    <tr>\n",
       "      <th>3</th>\n",
       "      <td>0.324940</td>\n",
       "      <td>0.146494</td>\n",
       "      <td>3</td>\n",
       "      <td>False</td>\n",
       "    </tr>\n",
       "    <tr>\n",
       "      <th>4</th>\n",
       "      <td>0.419664</td>\n",
       "      <td>0.276135</td>\n",
       "      <td>3</td>\n",
       "      <td>False</td>\n",
       "    </tr>\n",
       "    <tr>\n",
       "      <th>5</th>\n",
       "      <td>0.495204</td>\n",
       "      <td>0.425222</td>\n",
       "      <td>3</td>\n",
       "      <td>False</td>\n",
       "    </tr>\n",
       "  </tbody>\n",
       "</table>\n",
       "</div>"
      ],
      "text/plain": [
       "          x         y  Round  single_phase\n",
       "0  0.160671  0.085563      3          True\n",
       "1  0.580336  0.571716      3          True\n",
       "2  0.515588  0.719506      3          True\n",
       "3  0.324940  0.146494      3         False\n",
       "4  0.419664  0.276135      3         False\n",
       "5  0.495204  0.425222      3         False"
      ]
     },
     "execution_count": 5,
     "metadata": {},
     "output_type": "execute_result"
    }
   ],
   "source": [
    "df_round0 = (\n",
    "    pd.read_csv(\"./Data/extracted-round0.csv\", names=[\"x\", \"y\"])\n",
    "    >> gr.tf_mutate(Round=0, single_phase=True)\n",
    ")\n",
    "df_round3 = (\n",
    "    pd.read_csv(\"./Data/extracted-round3-true.csv\", names=[\"x\", \"y\"])\n",
    "    >> gr.tf_mutate(Round=3, single_phase=True)\n",
    "    >> gr.tf_bind_rows(\n",
    "        pd.read_csv(\"./Data/extracted-round3-false.csv\", names=[\"x\", \"y\"])\n",
    "        >> gr.tf_mutate(Round=3, single_phase=False)\n",
    "    )\n",
    ")\n",
    "df_round3"
   ]
  },
  {
   "cell_type": "markdown",
   "id": "a895c710-7e1b-47ee-8fa7-4792a708d4a8",
   "metadata": {},
   "source": [
    "## Sanity-check the extracted values\n",
    "\n",
    "Plot the extracted Round 0 and Round 3 points. See if they look sensible on the original ternary diagram.\n"
   ]
  },
  {
   "cell_type": "code",
   "execution_count": 6,
   "id": "a96cdfc1-8992-41f8-8d49-02f8d45248cb",
   "metadata": {},
   "outputs": [
    {
     "name": "stderr",
     "output_type": "stream",
     "text": [
      "/Users/zach/opt/anaconda3/envs/grama/lib/python3.9/site-packages/plotnine/layer.py:401: PlotnineWarning: geom_segment : Removed 1 rows containing missing values.\n"
     ]
    },
    {
     "data": {
      "image/png": "[encoded data removed]",
      "text/plain": [
       "<Figure size 640x480 with 1 Axes>"
      ]
     },
     "metadata": {},
     "output_type": "display_data"
    },
    {
     "data": {
      "text/plain": [
       "<ggplot: (8777261746207)>"
      ]
     },
     "execution_count": 6,
     "metadata": {},
     "output_type": "execute_result"
    }
   ],
   "source": [
    "(\n",
    "    df_round0\n",
    "    >> gr.tf_bind_rows(df_round3)\n",
    "    \n",
    "    >> gr.ggplot(gr.aes(\"x\", \"y\"))\n",
    "    # Guides\n",
    "    + gr.geom_segment(\n",
    "        data=df_tri_guides,\n",
    "        mapping=gr.aes(xend=\"xend\", yend=\"yend\"),\n",
    "        color=\"grey\",\n",
    "        size=0.5,\n",
    "    )\n",
    "    + gr.geom_label(\n",
    "        data=df_tri_labels,\n",
    "        mapping=gr.aes(label=\"label\")\n",
    "    )\n",
    "    # Triangle border\n",
    "    + gr.geom_segment(\n",
    "        data=df_tri_bounds,\n",
    "        mapping=gr.aes(xend=\"gr.lead(x)\", yend=\"gr.lead(y)\"),\n",
    "        size=1.0,\n",
    "    )\n",
    "    # Data\n",
    "    + gr.geom_point(gr.aes(color=\"single_phase\"), size=3)\n",
    ")"
   ]
  },
  {
   "cell_type": "markdown",
   "id": "facd9e63-e183-4644-a897-1affec227a59",
   "metadata": {},
   "source": [
    "The points appear to be in the right locations. Additionally, we see that the \"middle three\" compositions are the ones that are not single phase; this matches the original figure above (sanity checking the `single_phase` values).\n",
    "\n",
    "Convert the Round 0 data. These should be dead-on for single-halide compositions.\n"
   ]
  },
  {
   "cell_type": "code",
   "execution_count": 7,
   "id": "cbeaa2d4-abcb-4ec0-83da-469478794fe3",
   "metadata": {},
   "outputs": [
    {
     "data": {
      "text/html": [
       "<div>\n",
       "<style scoped>\n",
       "    .dataframe tbody tr th:only-of-type {\n",
       "        vertical-align: middle;\n",
       "    }\n",
       "\n",
       "    .dataframe tbody tr th {\n",
       "        vertical-align: top;\n",
       "    }\n",
       "\n",
       "    .dataframe thead th {\n",
       "        text-align: right;\n",
       "    }\n",
       "</style>\n",
       "<table border=\"1\" class=\"dataframe\">\n",
       "  <thead>\n",
       "    <tr style=\"text-align: right;\">\n",
       "      <th></th>\n",
       "      <th>x</th>\n",
       "      <th>y</th>\n",
       "      <th>Round</th>\n",
       "      <th>single_phase</th>\n",
       "      <th>I</th>\n",
       "      <th>Br</th>\n",
       "      <th>Cl</th>\n",
       "    </tr>\n",
       "  </thead>\n",
       "  <tbody>\n",
       "    <tr>\n",
       "      <th>0</th>\n",
       "      <td>0.0</td>\n",
       "      <td>-2.220446e-16</td>\n",
       "      <td>0</td>\n",
       "      <td>True</td>\n",
       "      <td>1.000000e+00</td>\n",
       "      <td>1.281975e-16</td>\n",
       "      <td>-3.502421e-16</td>\n",
       "    </tr>\n",
       "    <tr>\n",
       "      <th>1</th>\n",
       "      <td>1.0</td>\n",
       "      <td>0.000000e+00</td>\n",
       "      <td>0</td>\n",
       "      <td>True</td>\n",
       "      <td>-1.922963e-16</td>\n",
       "      <td>1.000000e+00</td>\n",
       "      <td>0.000000e+00</td>\n",
       "    </tr>\n",
       "    <tr>\n",
       "      <th>2</th>\n",
       "      <td>0.5</td>\n",
       "      <td>8.660000e-01</td>\n",
       "      <td>0</td>\n",
       "      <td>True</td>\n",
       "      <td>1.466688e-05</td>\n",
       "      <td>1.466688e-05</td>\n",
       "      <td>9.999707e-01</td>\n",
       "    </tr>\n",
       "  </tbody>\n",
       "</table>\n",
       "</div>"
      ],
      "text/plain": [
       "     x             y  Round  single_phase             I            Br  \\\n",
       "0  0.0 -2.220446e-16      0          True  1.000000e+00  1.281975e-16   \n",
       "1  1.0  0.000000e+00      0          True -1.922963e-16  1.000000e+00   \n",
       "2  0.5  8.660000e-01      0          True  1.466688e-05  1.466688e-05   \n",
       "\n",
       "             Cl  \n",
       "0 -3.502421e-16  \n",
       "1  0.000000e+00  \n",
       "2  9.999707e-01  "
      ]
     },
     "execution_count": 7,
     "metadata": {},
     "output_type": "execute_result"
    }
   ],
   "source": [
    "(\n",
    "    df_round0\n",
    "    >> tf_thp()\n",
    ")"
   ]
  },
  {
   "cell_type": "markdown",
   "id": "13ccfe6c-090e-49c8-a183-8824e13e8c71",
   "metadata": {},
   "source": [
    "The values are correct to within $O(10^{-5})$. We shouldn't need precision beyond two decimals, so this should be sufficient.\n"
   ]
  },
  {
   "cell_type": "markdown",
   "id": "6201b517-8aa0-49f4-8137-2fed5aafc664",
   "metadata": {},
   "source": [
    "# Conversion\n"
   ]
  },
  {
   "cell_type": "code",
   "execution_count": 8,
   "id": "00f5d234-0305-4bc9-b91e-d1624e64e494",
   "metadata": {},
   "outputs": [
    {
     "data": {
      "text/html": [
       "<div>\n",
       "<style scoped>\n",
       "    .dataframe tbody tr th:only-of-type {\n",
       "        vertical-align: middle;\n",
       "    }\n",
       "\n",
       "    .dataframe tbody tr th {\n",
       "        vertical-align: top;\n",
       "    }\n",
       "\n",
       "    .dataframe thead th {\n",
       "        text-align: right;\n",
       "    }\n",
       "</style>\n",
       "<table border=\"1\" class=\"dataframe\">\n",
       "  <thead>\n",
       "    <tr style=\"text-align: right;\">\n",
       "      <th></th>\n",
       "      <th>Cl</th>\n",
       "      <th>I</th>\n",
       "      <th>Br</th>\n",
       "      <th>single_phase</th>\n",
       "      <th>Round</th>\n",
       "    </tr>\n",
       "  </thead>\n",
       "  <tbody>\n",
       "    <tr>\n",
       "      <th>0</th>\n",
       "      <td>0.098799</td>\n",
       "      <td>0.789929</td>\n",
       "      <td>0.111272</td>\n",
       "      <td>True</td>\n",
       "      <td>3</td>\n",
       "    </tr>\n",
       "    <tr>\n",
       "      <th>1</th>\n",
       "      <td>0.660160</td>\n",
       "      <td>0.089584</td>\n",
       "      <td>0.250256</td>\n",
       "      <td>True</td>\n",
       "      <td>3</td>\n",
       "    </tr>\n",
       "    <tr>\n",
       "      <th>2</th>\n",
       "      <td>0.830814</td>\n",
       "      <td>0.069005</td>\n",
       "      <td>0.100181</td>\n",
       "      <td>True</td>\n",
       "      <td>3</td>\n",
       "    </tr>\n",
       "    <tr>\n",
       "      <th>3</th>\n",
       "      <td>0.169157</td>\n",
       "      <td>0.590482</td>\n",
       "      <td>0.240362</td>\n",
       "      <td>False</td>\n",
       "      <td>3</td>\n",
       "    </tr>\n",
       "    <tr>\n",
       "      <th>4</th>\n",
       "      <td>0.318853</td>\n",
       "      <td>0.420909</td>\n",
       "      <td>0.260238</td>\n",
       "      <td>False</td>\n",
       "      <td>3</td>\n",
       "    </tr>\n",
       "    <tr>\n",
       "      <th>5</th>\n",
       "      <td>0.491004</td>\n",
       "      <td>0.259294</td>\n",
       "      <td>0.249702</td>\n",
       "      <td>False</td>\n",
       "      <td>3</td>\n",
       "    </tr>\n",
       "  </tbody>\n",
       "</table>\n",
       "</div>"
      ],
      "text/plain": [
       "         Cl         I        Br  single_phase  Round\n",
       "0  0.098799  0.789929  0.111272          True      3\n",
       "1  0.660160  0.089584  0.250256          True      3\n",
       "2  0.830814  0.069005  0.100181          True      3\n",
       "3  0.169157  0.590482  0.240362         False      3\n",
       "4  0.318853  0.420909  0.260238         False      3\n",
       "5  0.491004  0.259294  0.249702         False      3"
      ]
     },
     "execution_count": 8,
     "metadata": {},
     "output_type": "execute_result"
    }
   ],
   "source": [
    "df_round3_converted = (\n",
    "    df_round3\n",
    "    >> tf_thp()\n",
    "    >> gr.tf_select(\"Cl\", \"I\", \"Br\", \"single_phase\", \"Round\")\n",
    ")\n",
    "df_round3_converted "
   ]
  },
  {
   "cell_type": "markdown",
   "id": "4653ee84-47db-426e-8062-e5a459746248",
   "metadata": {},
   "source": [
    "Save these to disk so we don't have this issue again....\n"
   ]
  },
  {
   "cell_type": "code",
   "execution_count": 9,
   "id": "dc55ff55-62c1-478b-ab01-803c01bf4a79",
   "metadata": {},
   "outputs": [],
   "source": [
    "df_round3_converted.to_csv(\"Data/measurements-round3.csv\", index=False)\n"
   ]
  }
 ],
 "metadata": {
  "kernelspec": {
   "display_name": "Python 3 (ipykernel)",
   "language": "python",
   "name": "python3"
  },
  "language_info": {
   "codemirror_mode": {
    "name": "ipython",
    "version": 3
   },
   "file_extension": ".py",
   "mimetype": "text/x-python",
   "name": "python",
   "nbconvert_exporter": "python",
   "pygments_lexer": "ipython3",
   "version": "3.9.7"
  }
 },
 "nbformat": 4,
 "nbformat_minor": 5
}
