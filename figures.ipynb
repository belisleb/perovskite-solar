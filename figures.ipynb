{
 "cells": [
  {
   "cell_type": "markdown",
   "id": "6164bd55-e44b-49a1-bdcd-285cc859a0c9",
   "metadata": {},
   "source": [
    "# Generate Figures for Manuscript\n"
   ]
  },
  {
   "cell_type": "markdown",
   "id": "bb173ce4-a81a-469f-81b5-7730dec5dc66",
   "metadata": {},
   "source": [
    "# Setup"
   ]
  },
  {
   "cell_type": "code",
   "execution_count": 1,
   "id": "0bd64c30-679a-49f4-9e35-f6b98dff6de3",
   "metadata": {},
   "outputs": [],
   "source": [
    "## Load packages\n",
    "import grama as gr\n",
    "import numpy as np\n",
    "import pandas as pd\n",
    "%matplotlib inline\n",
    "\n",
    "## Load scikit tools\n",
    "from sklearn.gaussian_process.kernels import RBF\n",
    "from sklearn.gaussian_process import GaussianProcessRegressor\n",
    "from sklearn.gaussian_process.kernels import Matern\n",
    "\n",
    "## Package setup\n",
    "DF = gr.Intention()"
   ]
  },
  {
   "cell_type": "markdown",
   "id": "efe2647e-93dc-429b-899f-d7b0d959a658",
   "metadata": {},
   "source": [
    "## Helper Functions"
   ]
  },
  {
   "cell_type": "code",
   "execution_count": 2,
   "id": "0039fd26-e5eb-4269-bad5-2774b21d59ae",
   "metadata": {},
   "outputs": [],
   "source": [
    "## Barycentric converter\n",
    "def tran_bary(df, a=\"I\", b=\"Br\", c=\"Cl\", x=\"x\", y=\"y\"):\n",
    "    r\"\"\"Convert to barycentric coordinates\n",
    "    \"\"\"\n",
    "    df_tmp = df.copy()\n",
    "    df_tmp[x] = 0.0 * df[a] + 1.0 * df[b] + 0.5 * df[c]\n",
    "    df_tmp[y] = 0.0 * df[a] + 0.0 * df[b] + np.sqrt(1 - 0.5**2) * df[c]\n",
    "    \n",
    "    return df_tmp\n",
    "\n",
    "## Inverse transform\n",
    "def tran_thp(df, x=\"x\", y=\"y\", a=\"I\", b=\"Br\", c=\"Cl\"):\n",
    "    df_tmp = df.copy()\n",
    "    xa = 0; ya = 0\n",
    "    xb = 1; yb = 0\n",
    "    xc = 0.5; yc = np.sqrt(1 - 0.5**2)\n",
    "    d = (yb - yc) * (xa - xc) + (xc - xb) * (ya - yc)\n",
    "    df_tmp[a] = ((yb - yc) * (df_tmp[x] - xc) + (xc - xb) * (df_tmp[y] - yc)) / d\n",
    "    df_tmp[b] = ((yc - ya) * (df_tmp[x] - xc) + (xa - xc) * (df_tmp[y] - yc)) / d\n",
    "    df_tmp[c] = 1 - df_tmp[a] - df_tmp[b]\n",
    "\n",
    "    return df_tmp\n",
    "\n",
    "# Pipe-enabled functions\n",
    "tf_bary = gr.add_pipe(tran_bary)\n",
    "tf_thp = gr.add_pipe(tran_thp)"
   ]
  },
  {
   "cell_type": "markdown",
   "id": "339ae145-8ff6-4b06-b87e-313ce6ed2ac9",
   "metadata": {},
   "source": [
    "## Metadata\n"
   ]
  },
  {
   "cell_type": "code",
   "execution_count": 3,
   "id": "671c8412-b7e4-4045-a433-6b56e7c2ca58",
   "metadata": {},
   "outputs": [],
   "source": [
    "# Triangle boundary\n",
    "df_tri_bounds = (\n",
    "    gr.df_make(\n",
    "        Br=[1, 0, 0, 1],\n",
    "        Cl=[0, 1, 0, 0],\n",
    "        I =[0, 0, 1, 0],\n",
    "    )\n",
    "    >> tf_bary()\n",
    ")\n",
    "\n",
    "# Labels\n",
    "df_tri_labels = (\n",
    "    gr.df_make(\n",
    "        x=[-0.1, +1.1, +0.5],\n",
    "        y=[+0.0, +0.0, +np.sqrt(1 - 0.5**2) + 0.1],\n",
    "        label=[\"I\", \"Br\", \"Cl\"]\n",
    "    )\n",
    ")\n",
    "\n",
    "# Guidelines\n",
    "df_tri_guides = (\n",
    "    gr.df_make(\n",
    "        Br_0=[0.25, 0.5, 0.75, 0.25, 0.5, 0.75, 0.75, 0.5, 0.25],\n",
    "        Br_1=[0.25, 0.5, 0.75, 0.00, 0.0, 0.00, 0.00, 0.0, 0.00],\n",
    "        Cl_0=[0.75, 0.5, 0.25, 0.75, 0.5, 0.25, 0.00, 0.0, 0.00],\n",
    "        Cl_1=[0.00, 0.0, 0.00, 0.75, 0.5, 0.25, 0.75, 0.5, 0.25],\n",
    "        I_0 =[0.00, 0.0, 0.00, 0.00, 0.0, 0.00, 0.25, 0.5, 0.75],\n",
    "        I_1 =[0.75, 0.5, 0.25, 0.25, 0.5, 0.75, 0.25, 0.5, 0.75],\n",
    "    )\n",
    "    >> tf_bary(a=\"I_0\", b=\"Br_0\", c=\"Cl_0\")\n",
    "    >> tf_bary(a=\"I_1\", b=\"Br_1\", c=\"Cl_1\", x=\"xend\", y=\"yend\")\n",
    ")"
   ]
  },
  {
   "cell_type": "markdown",
   "id": "4dc9d993-e5fa-4aa2-9bef-c2b108ac6706",
   "metadata": {},
   "source": [
    "## Load measurements"
   ]
  },
  {
   "cell_type": "code",
   "execution_count": 4,
   "id": "aacffa21-5f20-4eb7-8495-b17c1f14cf4c",
   "metadata": {},
   "outputs": [
    {
     "data": {
      "text/html": [
       "<div>\n",
       "<style scoped>\n",
       "    .dataframe tbody tr th:only-of-type {\n",
       "        vertical-align: middle;\n",
       "    }\n",
       "\n",
       "    .dataframe tbody tr th {\n",
       "        vertical-align: top;\n",
       "    }\n",
       "\n",
       "    .dataframe thead th {\n",
       "        text-align: right;\n",
       "    }\n",
       "</style>\n",
       "<table border=\"1\" class=\"dataframe\">\n",
       "  <thead>\n",
       "    <tr style=\"text-align: right;\">\n",
       "      <th></th>\n",
       "      <th>Cl</th>\n",
       "      <th>I</th>\n",
       "      <th>Br</th>\n",
       "      <th>single_phase</th>\n",
       "      <th>round</th>\n",
       "    </tr>\n",
       "  </thead>\n",
       "  <tbody>\n",
       "    <tr>\n",
       "      <th>0</th>\n",
       "      <td>1.00</td>\n",
       "      <td>0.00</td>\n",
       "      <td>0.00</td>\n",
       "      <td>True</td>\n",
       "      <td>0</td>\n",
       "    </tr>\n",
       "    <tr>\n",
       "      <th>1</th>\n",
       "      <td>0.00</td>\n",
       "      <td>1.00</td>\n",
       "      <td>0.00</td>\n",
       "      <td>True</td>\n",
       "      <td>0</td>\n",
       "    </tr>\n",
       "    <tr>\n",
       "      <th>2</th>\n",
       "      <td>0.00</td>\n",
       "      <td>0.00</td>\n",
       "      <td>1.00</td>\n",
       "      <td>True</td>\n",
       "      <td>0</td>\n",
       "    </tr>\n",
       "    <tr>\n",
       "      <th>3</th>\n",
       "      <td>0.00</td>\n",
       "      <td>0.50</td>\n",
       "      <td>0.50</td>\n",
       "      <td>True</td>\n",
       "      <td>1</td>\n",
       "    </tr>\n",
       "    <tr>\n",
       "      <th>4</th>\n",
       "      <td>0.50</td>\n",
       "      <td>0.00</td>\n",
       "      <td>0.50</td>\n",
       "      <td>True</td>\n",
       "      <td>1</td>\n",
       "    </tr>\n",
       "    <tr>\n",
       "      <th>5</th>\n",
       "      <td>0.50</td>\n",
       "      <td>0.50</td>\n",
       "      <td>0.00</td>\n",
       "      <td>False</td>\n",
       "      <td>1</td>\n",
       "    </tr>\n",
       "    <tr>\n",
       "      <th>6</th>\n",
       "      <td>0.33</td>\n",
       "      <td>0.33</td>\n",
       "      <td>0.34</td>\n",
       "      <td>True</td>\n",
       "      <td>1</td>\n",
       "    </tr>\n",
       "    <tr>\n",
       "      <th>7</th>\n",
       "      <td>0.45</td>\n",
       "      <td>0.40</td>\n",
       "      <td>0.15</td>\n",
       "      <td>False</td>\n",
       "      <td>2</td>\n",
       "    </tr>\n",
       "    <tr>\n",
       "      <th>8</th>\n",
       "      <td>0.28</td>\n",
       "      <td>0.60</td>\n",
       "      <td>0.12</td>\n",
       "      <td>False</td>\n",
       "      <td>2</td>\n",
       "    </tr>\n",
       "    <tr>\n",
       "      <th>9</th>\n",
       "      <td>0.24</td>\n",
       "      <td>0.71</td>\n",
       "      <td>0.05</td>\n",
       "      <td>False</td>\n",
       "      <td>2</td>\n",
       "    </tr>\n",
       "    <tr>\n",
       "      <th>10</th>\n",
       "      <td>0.35</td>\n",
       "      <td>0.50</td>\n",
       "      <td>0.15</td>\n",
       "      <td>False</td>\n",
       "      <td>2</td>\n",
       "    </tr>\n",
       "    <tr>\n",
       "      <th>11</th>\n",
       "      <td>0.71</td>\n",
       "      <td>0.24</td>\n",
       "      <td>0.05</td>\n",
       "      <td>False</td>\n",
       "      <td>2</td>\n",
       "    </tr>\n",
       "    <tr>\n",
       "      <th>12</th>\n",
       "      <td>0.60</td>\n",
       "      <td>0.28</td>\n",
       "      <td>0.12</td>\n",
       "      <td>False</td>\n",
       "      <td>2</td>\n",
       "    </tr>\n",
       "  </tbody>\n",
       "</table>\n",
       "</div>"
      ],
      "text/plain": [
       "      Cl     I    Br  single_phase  round\n",
       "0   1.00  0.00  0.00          True      0\n",
       "1   0.00  1.00  0.00          True      0\n",
       "2   0.00  0.00  1.00          True      0\n",
       "3   0.00  0.50  0.50          True      1\n",
       "4   0.50  0.00  0.50          True      1\n",
       "5   0.50  0.50  0.00         False      1\n",
       "6   0.33  0.33  0.34          True      1\n",
       "7   0.45  0.40  0.15         False      2\n",
       "8   0.28  0.60  0.12         False      2\n",
       "9   0.24  0.71  0.05         False      2\n",
       "10  0.35  0.50  0.15         False      2\n",
       "11  0.71  0.24  0.05         False      2\n",
       "12  0.60  0.28  0.12         False      2"
      ]
     },
     "execution_count": 4,
     "metadata": {},
     "output_type": "execute_result"
    }
   ],
   "source": [
    "df_data = (\n",
    "    pd.read_csv(\"./Data/measurements.csv\")\n",
    "    >> gr.tf_arrange(DF[\"round\"])\n",
    ")\n",
    "df_data"
   ]
  },
  {
   "cell_type": "markdown",
   "id": "24a86045-f444-439e-835a-c2ce4963d5e9",
   "metadata": {},
   "source": [
    "# Generate Figures\n"
   ]
  },
  {
   "cell_type": "markdown",
   "id": "cd5f6031-4eba-449a-a6c8-6ab35aa4c0d5",
   "metadata": {},
   "source": [
    "## Primary ternary figure\n"
   ]
  },
  {
   "cell_type": "code",
   "execution_count": 12,
   "id": "429d9d82-099a-4900-b357-1a36747aa570",
   "metadata": {},
   "outputs": [
    {
     "name": "stderr",
     "output_type": "stream",
     "text": [
      "/Users/zach/opt/anaconda3/envs/grama/lib/python3.9/site-packages/plotnine/ggplot.py:719: PlotnineWarning: Saving 6.4 x 4.8 in image.\n",
      "/Users/zach/opt/anaconda3/envs/grama/lib/python3.9/site-packages/plotnine/ggplot.py:722: PlotnineWarning: Filename: ./images/ternary-data.png\n",
      "/Users/zach/opt/anaconda3/envs/grama/lib/python3.9/site-packages/plotnine/layer.py:401: PlotnineWarning: geom_segment : Removed 1 rows containing missing values.\n",
      "/Users/zach/opt/anaconda3/envs/grama/lib/python3.9/site-packages/plotnine/layer.py:401: PlotnineWarning: geom_segment : Removed 1 rows containing missing values.\n"
     ]
    },
    {
     "data": {
      "image/png": "[encoded data removed]",
      "text/plain": [
       "<Figure size 640x480 with 1 Axes>"
      ]
     },
     "metadata": {},
     "output_type": "display_data"
    },
    {
     "data": {
      "text/plain": [
       "<ggplot: (8785049012800)>"
      ]
     },
     "execution_count": 12,
     "metadata": {},
     "output_type": "execute_result"
    }
   ],
   "source": [
    "p = (\n",
    "    df_data\n",
    "    >> tf_bary()\n",
    "    \n",
    "    >> gr.ggplot(gr.aes(\"x\", \"y\"))\n",
    "    # Guides\n",
    "    + gr.geom_segment(\n",
    "        data=df_tri_guides,\n",
    "        mapping=gr.aes(xend=\"xend\", yend=\"yend\"),\n",
    "        color=\"grey\",\n",
    "        size=0.5,\n",
    "    )\n",
    "    + gr.geom_segment(\n",
    "        data=df_tri_bounds,\n",
    "        mapping=gr.aes(xend=\"gr.lead(x)\", yend=\"gr.lead(y)\"),\n",
    "        size=1.0,\n",
    "    )\n",
    "    + gr.geom_label(\n",
    "        data=df_tri_labels,\n",
    "        mapping=gr.aes(label=\"label\")\n",
    "    )\n",
    "    # Data\n",
    "    + gr.geom_point(\n",
    "        gr.aes(color=\"single_phase\", shape=\"factor(round)\"), \n",
    "        size=6,\n",
    "    )\n",
    "    # Plot tail\n",
    "    + gr.scale_color_discrete(name=\"Phase Stable\")\n",
    "    + gr.theme_void()\n",
    "    + gr.theme(\n",
    "        legend_position=\"bottom\",\n",
    "        plot_background=gr.element_rect(fill=\"white\")\n",
    "    )\n",
    ")\n",
    "p.save(\"./images/ternary-data.png\")\n",
    "p"
   ]
  }
 ],
 "metadata": {
  "kernelspec": {
   "display_name": "Python 3 (ipykernel)",
   "language": "python",
   "name": "python3"
  },
  "language_info": {
   "codemirror_mode": {
    "name": "ipython",
    "version": 3
   },
   "file_extension": ".py",
   "mimetype": "text/x-python",
   "name": "python",
   "nbconvert_exporter": "python",
   "pygments_lexer": "ipython3",
   "version": "3.9.7"
  }
 },
 "nbformat": 4,
 "nbformat_minor": 5
}
